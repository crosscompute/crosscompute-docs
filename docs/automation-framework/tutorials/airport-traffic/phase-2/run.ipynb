{
 "cells": [
  {
   "cell_type": "code",
   "execution_count": null,
   "id": "b2817c2a-5c38-4ebc-b72a-8f6edd16377a",
   "metadata": {},
   "outputs": [],
   "source": [
    "from os import getenv\n",
    "from pathlib import Path\n",
    "\n",
    "input_folder = Path(getenv(\n",
    "    'CROSSCOMPUTE_INPUT_FOLDER', 'tests/standard/input'))\n",
    "output_folder = Path(getenv(\n",
    "    'CROSSCOMPUTE_OUTPUT_FOLDER', 'tests/standard/output'))\n",
    "\n",
    "output_folder.mkdir(parents=True, exist_ok=True)"
   ]
  },
  {
   "cell_type": "code",
   "execution_count": null,
   "id": "fd368001-e99d-4ba5-871b-b7170b4016e3",
   "metadata": {},
   "outputs": [],
   "source": [
    "GOOGLE_KEY = getenv('GOOGLE_KEY')"
   ]
  },
  {
   "cell_type": "code",
   "execution_count": null,
   "id": "d192d416-d81c-425b-8356-ced03add23c1",
   "metadata": {},
   "outputs": [],
   "source": [
    "import json\n",
    "\n",
    "with (input_folder / 'variables.dictionary').open('rt') as f:\n",
    "    d = json.load(f)\n",
    "districts_uri = d['districts_uri']\n",
    "destination_address = d['destination_address']\n",
    "travel_mode = d['travel_mode']\n",
    "travel_name = {\n",
    "    'driving': 'car',\n",
    "    'transit': 'public transit',\n",
    "}[travel_mode]"
   ]
  },
  {
   "cell_type": "code",
   "execution_count": null,
   "id": "2eb74e35-59e1-4911-b223-91a9a4811d6f",
   "metadata": {},
   "outputs": [],
   "source": [
    "from hashlib import blake2b\n",
    "\n",
    "def get_hash(text):\n",
    "    h = blake2b()\n",
    "    h.update(text.encode())\n",
    "    return h.hexdigest()"
   ]
  },
  {
   "cell_type": "code",
   "execution_count": null,
   "id": "236e5cb6-5438-4c61-b718-a4ef2c99bae2",
   "metadata": {},
   "outputs": [],
   "source": [
    "from shapely.geometry import mapping, shape\n",
    "\n",
    "def simplify_feature(feature, tolerance):\n",
    "    raw_geometry = shape(feature['geometry'])\n",
    "    simplified_geometry = raw_geometry.simplify(tolerance)\n",
    "    feature['geometry'] = mapping(simplified_geometry)\n",
    "    return feature"
   ]
  },
  {
   "cell_type": "code",
   "execution_count": null,
   "id": "16e9deeb-5687-41a4-90c7-4b6710b1a359",
   "metadata": {},
   "outputs": [],
   "source": [
    "import json\n",
    "from urllib.request import urlretrieve as download_uri\n",
    "\n",
    "SIMPLIFICATION_TOLERANCE = 0.001\n",
    "\n",
    "datasets_folder = Path('datasets')\n",
    "districts_path = (\n",
    "    datasets_folder / 'districts' / get_hash(districts_uri)\n",
    ").with_suffix('.json')\n",
    "if not districts_path.exists():\n",
    "    districts_path.parent.mkdir(parents=True, exist_ok=True)\n",
    "    raw_path = districts_path.with_suffix('.raw')\n",
    "    download_uri(districts_uri, raw_path)\n",
    "    with raw_path.open('rt') as f:\n",
    "        d = json.load(f)\n",
    "        d['features'] = features = [simplify_feature(\n",
    "            _, SIMPLIFICATION_TOLERANCE) for _ in d['features']]\n",
    "    with districts_path.open('wt') as f:\n",
    "        json.dump(d, f)\n",
    "else:\n",
    "    with districts_path.open('rt') as f:\n",
    "        d = json.load(f)\n",
    "        features = d['features']\n",
    "districts_geojson = d\n",
    "len(features)"
   ]
  },
  {
   "cell_type": "code",
   "execution_count": null,
   "id": "570c4f34-ef69-433b-b345-1166ac0883ea",
   "metadata": {},
   "outputs": [],
   "source": [
    "# ll $districts_path.parent -h"
   ]
  },
  {
   "cell_type": "code",
   "execution_count": null,
   "id": "ac7f1e12-c45d-41cc-8e63-b444221f01e2",
   "metadata": {},
   "outputs": [],
   "source": [
    "# rm $districts_path"
   ]
  },
  {
   "cell_type": "code",
   "execution_count": null,
   "id": "c6d03bd1-c949-4359-a3bb-7ff143fe19c7",
   "metadata": {},
   "outputs": [],
   "source": [
    "from random import choice\n",
    "\n",
    "for feature in features:\n",
    "    feature['properties'] = {'t': choice(range(1, 60))}"
   ]
  },
  {
   "cell_type": "code",
   "execution_count": null,
   "id": "92d2d791-728d-4bca-8706-361a3aebe6e5",
   "metadata": {},
   "outputs": [],
   "source": [
    "with (output_folder / 'map.geojson').open('wt') as f:\n",
    "    json.dump(districts_geojson, f)"
   ]
  },
  {
   "cell_type": "code",
   "execution_count": null,
   "id": "17011645-fb61-4e3f-b63c-073354807dfb",
   "metadata": {},
   "outputs": [],
   "source": [
    "ts = [_['properties']['t'] for _ in features]\n",
    "len(ts)"
   ]
  },
  {
   "cell_type": "code",
   "execution_count": null,
   "id": "919ddf48-924a-4eee-8d51-8e530cf7bcb6",
   "metadata": {},
   "outputs": [],
   "source": [
    "import matplotlib.pyplot as plt\n",
    "from matplotlib.colors import LinearSegmentedColormap\n",
    "\n",
    "REFERENCE_TIME_IN_MINUTES = 60\n",
    "\n",
    "px = 1 / plt.rcParams['figure.dpi']\n",
    "plt.figure(figsize=(800 * px, 200 * px))\n",
    "n, bins, patches = plt.hist(ts, bins=10)\n",
    "bin_centers = 0.5 * (bins[:-1] + bins[1:])\n",
    "color_indices = bin_centers / REFERENCE_TIME_IN_MINUTES\n",
    "color_map = LinearSegmentedColormap.from_list('', ['blue', 'red'])\n",
    "for i, p in zip(color_indices, patches):\n",
    "    plt.setp(p, 'facecolor', color_map(i))\n",
    "plt.title(f'Time to {destination_address} by {travel_name.title()}')\n",
    "plt.xlabel(f'minutes')\n",
    "plt.tight_layout()\n",
    "plt.savefig(output_folder / 'histogram.png')"
   ]
  }
 ],
 "metadata": {
  "kernelspec": {
   "display_name": "Python 3 (ipykernel)",
   "language": "python",
   "name": "python3"
  },
  "language_info": {
   "codemirror_mode": {
    "name": "ipython",
    "version": 3
   },
   "file_extension": ".py",
   "mimetype": "text/x-python",
   "name": "python",
   "nbconvert_exporter": "python",
   "pygments_lexer": "ipython3",
   "version": "3.10.7"
  }
 },
 "nbformat": 4,
 "nbformat_minor": 5
}
