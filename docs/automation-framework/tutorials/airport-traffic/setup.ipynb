{
 "cells": [
  {
   "cell_type": "code",
   "execution_count": null,
   "id": "5ea54444-55b4-4feb-bf28-bf14030e2f01",
   "metadata": {},
   "outputs": [],
   "source": [
    "pip install jupyterlab-crosscompute crosscompute-views-map h3 matplotlib requests shapely"
   ]
  },
  {
   "cell_type": "code",
   "execution_count": null,
   "id": "c05b387c-c161-42b6-9025-e64f57092a7a",
   "metadata": {},
   "outputs": [],
   "source": []
  }
 ],
 "metadata": {
  "kernelspec": {
   "display_name": "Python 3 (ipykernel)",
   "language": "python",
   "name": "python3"
  },
  "language_info": {
   "codemirror_mode": {
    "name": "ipython",
    "version": 3
   },
   "file_extension": ".py",
   "mimetype": "text/x-python",
   "name": "python",
   "nbconvert_exporter": "python",
   "pygments_lexer": "ipython3",
   "version": "3.10.5"
  }
 },
 "nbformat": 4,
 "nbformat_minor": 5
}
