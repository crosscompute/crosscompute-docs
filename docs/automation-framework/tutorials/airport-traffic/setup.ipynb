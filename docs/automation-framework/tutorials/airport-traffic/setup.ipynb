{
 "cells": [
  {
   "cell_type": "code",
   "execution_count": null,
   "id": "ae2aefe9-9741-47c5-9008-e4e4fbbe6cde",
   "metadata": {},
   "outputs": [],
   "source": [
    "from os import getenv\n",
    "\n",
    "assert getenv('GOOGLE_KEY') is not None\n",
    "assert getenv('MAPBOX_TOKEN') is not None"
   ]
  },
  {
   "cell_type": "code",
   "execution_count": null,
   "id": "5ea54444-55b4-4feb-bf28-bf14030e2f01",
   "metadata": {},
   "outputs": [],
   "source": [
    "pip install jupyterlab-crosscompute crosscompute-views-map h3 matplotlib requests shapely"
   ]
  }
 ],
 "metadata": {
  "kernelspec": {
   "display_name": "Python 3 (ipykernel)",
   "language": "python",
   "name": "python3"
  },
  "language_info": {
   "codemirror_mode": {
    "name": "ipython",
    "version": 3
   },
   "file_extension": ".py",
   "mimetype": "text/x-python",
   "name": "python",
   "nbconvert_exporter": "python",
   "pygments_lexer": "ipython3",
   "version": "3.10.5"
  }
 },
 "nbformat": 4,
 "nbformat_minor": 5
}
