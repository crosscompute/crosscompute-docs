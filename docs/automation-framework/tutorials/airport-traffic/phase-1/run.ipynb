{
 "cells": [
  {
   "cell_type": "code",
   "execution_count": null,
   "id": "b2817c2a-5c38-4ebc-b72a-8f6edd16377a",
   "metadata": {},
   "outputs": [],
   "source": [
    "from os import getenv\n",
    "from pathlib import Path\n",
    "\n",
    "input_folder = Path(getenv(\n",
    "    'CROSSCOMPUTE_INPUT_FOLDER', 'tests/standard/input'))\n",
    "output_folder = Path(getenv(\n",
    "    'CROSSCOMPUTE_OUTPUT_FOLDER', 'tests/standard/output'))\n",
    "\n",
    "output_folder.mkdir(parents=True, exist_ok=True)"
   ]
  },
  {
   "cell_type": "code",
   "execution_count": null,
   "id": "d192d416-d81c-425b-8356-ced03add23c1",
   "metadata": {},
   "outputs": [],
   "source": [
    "import json\n",
    "\n",
    "with (input_folder / 'variables.dictionary').open('rt') as f:\n",
    "    d = json.load(f)\n",
    "districts_uri = d['districts_uri']"
   ]
  },
  {
   "cell_type": "markdown",
   "id": "a8d434e4-c4a9-4f5a-a26a-fdd59e021681",
   "metadata": {},
   "source": [
    "Use a hashing function to get a unique and safe string based on user input."
   ]
  },
  {
   "cell_type": "code",
   "execution_count": null,
   "id": "2eb74e35-59e1-4911-b223-91a9a4811d6f",
   "metadata": {},
   "outputs": [],
   "source": [
    "from hashlib import blake2b\n",
    "\n",
    "def get_hash(text):\n",
    "    h = blake2b()\n",
    "    h.update(text.encode())\n",
    "    return h.hexdigest()"
   ]
  },
  {
   "cell_type": "code",
   "execution_count": null,
   "id": "236e5cb6-5438-4c61-b718-a4ef2c99bae2",
   "metadata": {},
   "outputs": [],
   "source": [
    "from shapely.geometry import mapping, shape\n",
    "\n",
    "def simplify_feature(feature, tolerance):\n",
    "    raw_geometry = shape(feature['geometry'])\n",
    "    simplified_geometry = raw_geometry.simplify(tolerance)\n",
    "    feature['geometry'] = mapping(simplified_geometry)\n",
    "    return feature"
   ]
  },
  {
   "cell_type": "markdown",
   "id": "a5279fcb-8f5e-49f3-b603-8b1f4da89dd8",
   "metadata": {},
   "source": [
    "## Exercise 1-1\n",
    "\n",
    "Set simplification tolerance to 0.1 and observe how the map changes."
   ]
  },
  {
   "cell_type": "code",
   "execution_count": null,
   "id": "16e9deeb-5687-41a4-90c7-4b6710b1a359",
   "metadata": {},
   "outputs": [],
   "source": [
    "import json\n",
    "from urllib.request import urlretrieve as download_uri\n",
    "\n",
    "SIMPLIFICATION_TOLERANCE = 0.001\n",
    "\n",
    "datasets_folder = Path('datasets')\n",
    "districts_path = (\n",
    "    datasets_folder / 'districts' / get_hash(districts_uri)\n",
    ").with_suffix('.json')\n",
    "if not districts_path.exists():\n",
    "    districts_path.parent.mkdir(parents=True, exist_ok=True)\n",
    "    raw_path = districts_path.with_suffix('.raw')\n",
    "    download_uri(districts_uri, raw_path)\n",
    "    with raw_path.open('rt') as f:\n",
    "        d = json.load(f)\n",
    "        d['features'] = features = [simplify_feature(\n",
    "            _, SIMPLIFICATION_TOLERANCE) for _ in d['features']]\n",
    "    with districts_path.open('wt') as f:\n",
    "        json.dump(d, f)\n",
    "else:\n",
    "    with districts_path.open('rt') as f:\n",
    "        d = json.load(f)\n",
    "        features = d['features']\n",
    "districts_geojson = d\n",
    "len(features)"
   ]
  },
  {
   "cell_type": "code",
   "execution_count": null,
   "id": "570c4f34-ef69-433b-b345-1166ac0883ea",
   "metadata": {},
   "outputs": [],
   "source": [
    "# ls $districts_path.parent -l -h"
   ]
  },
  {
   "cell_type": "code",
   "execution_count": null,
   "id": "ac7f1e12-c45d-41cc-8e63-b444221f01e2",
   "metadata": {},
   "outputs": [],
   "source": [
    "# rm $districts_path"
   ]
  },
  {
   "cell_type": "markdown",
   "id": "c5e28636-f3cb-47eb-9bf3-f6be6db6b260",
   "metadata": {},
   "source": [
    "# Exercise 1-2\n",
    "Change the color map from blue/red to green/yellow in `automate.yml`."
   ]
  },
  {
   "cell_type": "markdown",
   "id": "dde60185-c8fd-403d-beb1-336db4d9b5ae",
   "metadata": {},
   "source": [
    "# Exercise 1-3\n",
    "\n",
    "Define a new variable called `x` that is random from 0 to 100."
   ]
  },
  {
   "cell_type": "markdown",
   "id": "b1927304-62c5-4a9d-9952-6a81df87f82e",
   "metadata": {},
   "source": [
    "# Exercise 1-4\n",
    "Change the color map to vary from 0 to 100  in `automate.yml`."
   ]
  },
  {
   "cell_type": "code",
   "execution_count": null,
   "id": "05deb105-f97f-4bd7-a226-2610533a221f",
   "metadata": {},
   "outputs": [],
   "source": [
    "from random import choice\n",
    "\n",
    "for feature in features:\n",
    "    feature['properties'] = {'t': choice(range(1, 60))}"
   ]
  },
  {
   "cell_type": "code",
   "execution_count": null,
   "id": "671108b6-7d3b-47d3-a0a2-b32ee8935586",
   "metadata": {},
   "outputs": [],
   "source": [
    "with (output_folder / 'map.geojson').open('wt') as f:\n",
    "    json.dump(districts_geojson, f)"
   ]
  },
  {
   "cell_type": "markdown",
   "id": "123e11fb-e829-497b-83cf-56012e3dc949",
   "metadata": {},
   "source": [
    "# Exercise 1-5\n",
    "\n",
    "[Replace community districts with fire divisions](https://www1.nyc.gov/site/planning/data-maps/open-data/districts-download-metadata.page)."
   ]
  }
 ],
 "metadata": {
  "kernelspec": {
   "display_name": "Python 3 (ipykernel)",
   "language": "python",
   "name": "python3"
  },
  "language_info": {
   "codemirror_mode": {
    "name": "ipython",
    "version": 3
   },
   "file_extension": ".py",
   "mimetype": "text/x-python",
   "name": "python",
   "nbconvert_exporter": "python",
   "pygments_lexer": "ipython3",
   "version": "3.10.7"
  }
 },
 "nbformat": 4,
 "nbformat_minor": 5
}
